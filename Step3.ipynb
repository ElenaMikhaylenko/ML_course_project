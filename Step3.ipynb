{
 "cells": [
  {
   "cell_type": "code",
   "execution_count": 1,
   "id": "8ea82fab",
   "metadata": {},
   "outputs": [],
   "source": [
    "import pandas as pd\n",
    "import urllib.request\n",
    "import json \n",
    "from sklearn.metrics import roc_auc_score,roc_curve\n",
    "from urllib import request, parse"
   ]
  },
  {
   "cell_type": "code",
   "execution_count": 2,
   "id": "c56a6b92",
   "metadata": {},
   "outputs": [],
   "source": [
    "X_test = pd.read_csv('X_test.csv')\n",
    "y_test = pd.read_csv('y_test.csv')"
   ]
  },
  {
   "cell_type": "code",
   "execution_count": 15,
   "id": "8f4db9fa",
   "metadata": {},
   "outputs": [],
   "source": [
    "def get_prediction(x, my_url):\n",
    "    age, sex, cp, exng, trtbps, thalachh = x\n",
    "    body = {\"age\": age,\n",
    "            \"sex\": sex,\n",
    "            \"cp\": cp,\n",
    "            \"exng\": exng,\n",
    "            \"trtbps\": trtbps,\n",
    "            \"thalachh\": thalachh}\n",
    "    req = urllib.request.Request(my_url)\n",
    "    req.add_header('Content-Type', 'application/json; charset=utf-8')\n",
    "    jsondata = json.dumps(body)\n",
    "    jsondataasbytes = jsondata.encode('utf-8')\n",
    "    req.add_header('Content-Length', len(jsondataasbytes))\n",
    "    response = urllib.request.urlopen(req, jsondataasbytes)\n",
    "    return json.loads(response.read())['predictions']\n",
    "myurl = 'http://127.0.0.1:8180/predict'"
   ]
  },
  {
   "cell_type": "code",
   "execution_count": 16,
   "id": "a256c15c",
   "metadata": {},
   "outputs": [
    {
     "name": "stdout",
     "output_type": "stream",
     "text": [
      "Wall time: 1min 4s\n"
     ]
    }
   ],
   "source": [
    "%%time\n",
    "predictions = X_test[['age', 'sex', 'cp', 'exng', 'trtbps', \n",
    "                      'thalachh']].apply(lambda x: get_prediction(x, myurl), 1)"
   ]
  },
  {
   "cell_type": "code",
   "execution_count": 17,
   "id": "a674c708",
   "metadata": {},
   "outputs": [
    {
     "data": {
      "text/plain": [
       "0.8911637931034483"
      ]
     },
     "execution_count": 17,
     "metadata": {},
     "output_type": "execute_result"
    }
   ],
   "source": [
    "roc_auc_score(y_score=predictions.values, y_true=y_test)"
   ]
  }
 ],
 "metadata": {
  "kernelspec": {
   "display_name": "Python 3 (ipykernel)",
   "language": "python",
   "name": "python3"
  },
  "language_info": {
   "codemirror_mode": {
    "name": "ipython",
    "version": 3
   },
   "file_extension": ".py",
   "mimetype": "text/x-python",
   "name": "python",
   "nbconvert_exporter": "python",
   "pygments_lexer": "ipython3",
   "version": "3.9.13"
  }
 },
 "nbformat": 4,
 "nbformat_minor": 5
}
